{
  "nbformat": 4,
  "nbformat_minor": 0,
  "metadata": {
    "colab": {
      "name": "ML_dino_quiz.ipynb",
      "provenance": [],
      "collapsed_sections": []
    },
    "kernelspec": {
      "name": "python3",
      "display_name": "Python 3"
    },
    "language_info": {
      "name": "python"
    }
  },
  "cells": [
    {
      "cell_type": "code",
      "metadata": {
        "colab": {
          "base_uri": "https://localhost:8080/"
        },
        "id": "HMgpe564q0rT",
        "outputId": "f71ecd35-269b-4465-8e12-c3b0ad4c834b"
      },
      "source": [
        "!python --version"
      ],
      "execution_count": null,
      "outputs": [
        {
          "output_type": "stream",
          "text": [
            "Python 3.7.10\n"
          ],
          "name": "stdout"
        }
      ]
    },
    {
      "cell_type": "code",
      "metadata": {
        "colab": {
          "base_uri": "https://localhost:8080/"
        },
        "id": "RF_3LA8rmoLK",
        "outputId": "f1784719-e71d-4352-e770-c3f151408907"
      },
      "source": [
        "from google.colab import drive\n",
        "drive.mount('/content/drive')"
      ],
      "execution_count": null,
      "outputs": [
        {
          "output_type": "stream",
          "text": [
            "Drive already mounted at /content/drive; to attempt to forcibly remount, call drive.mount(\"/content/drive\", force_remount=True).\n"
          ],
          "name": "stdout"
        }
      ]
    },
    {
      "cell_type": "code",
      "metadata": {
        "id": "WNQKglj_pONg"
      },
      "source": [
        "import pandas as pd\n",
        "import seaborn as sns\n",
        "import regex as re\n",
        "import numpy as np\n",
        "from sklearn.model_selection import train_test_split\n",
        "from sklearn.ensemble import RandomForestClassifier\n",
        "from sklearn.model_selection import RandomizedSearchCV\n",
        "from sklearn.metrics import confusion_matrix\n",
        "import matplotlib.pyplot as plt\n",
        "from sklearn.preprocessing import MinMaxScaler\n",
        "from sklearn.preprocessing import OneHotEncoder"
      ],
      "execution_count": null,
      "outputs": []
    },
    {
      "cell_type": "code",
      "metadata": {
        "id": "Erv_KO-AptII"
      },
      "source": [
        "def make_confusion_matrix(cf,\n",
        "                          group_names=None,\n",
        "                          categories='auto',\n",
        "                          count=True,\n",
        "                          percent=True,\n",
        "                          cbar=True,\n",
        "                          xyticks=True,\n",
        "                          xyplotlabels=True,\n",
        "                          sum_stats=True,\n",
        "                          figsize=None,\n",
        "                          cmap='Blues',\n",
        "                          title=None):\n",
        "    '''\n",
        "    This function will make a pretty plot of an sklearn Confusion Matrix cm using a Seaborn heatmap visualization.\n",
        "    Arguments\n",
        "    ---------\n",
        "    cf:            confusion matrix to be passed in\n",
        "    group_names:   List of strings that represent the labels row by row to be shown in each square.\n",
        "    categories:    List of strings containing the categories to be displayed on the x,y axis. Default is 'auto'\n",
        "    count:         If True, show the raw number in the confusion matrix. Default is True.\n",
        "    normalize:     If True, show the proportions for each category. Default is True.\n",
        "    cbar:          If True, show the color bar. The cbar values are based off the values in the confusion matrix.\n",
        "                   Default is True.\n",
        "    xyticks:       If True, show x and y ticks. Default is True.\n",
        "    xyplotlabels:  If True, show 'True Label' and 'Predicted Label' on the figure. Default is True.\n",
        "    sum_stats:     If True, display summary statistics below the figure. Default is True.\n",
        "    figsize:       Tuple representing the figure size. Default will be the matplotlib rcParams value.\n",
        "    cmap:          Colormap of the values displayed from matplotlib.pyplot.cm. Default is 'Blues'\n",
        "                   See http://matplotlib.org/examples/color/colormaps_reference.html\n",
        "                   \n",
        "    title:         Title for the heatmap. Default is None.\n",
        "    '''\n",
        "\n",
        "\n",
        "    # CODE TO GENERATE TEXT INSIDE EACH SQUARE\n",
        "    blanks = ['' for i in range(cf.size)]\n",
        "\n",
        "    if group_names and len(group_names)==cf.size:\n",
        "        group_labels = [\"{}\\n\".format(value) for value in group_names]\n",
        "    else:\n",
        "        group_labels = blanks\n",
        "\n",
        "    if count:\n",
        "        group_counts = [\"{0:0.0f}\\n\".format(value) for value in cf.flatten()]\n",
        "    else:\n",
        "        group_counts = blanks\n",
        "\n",
        "    if percent:\n",
        "        group_percentages = [\"{0:.2%}\".format(value) for value in cf.flatten()/np.sum(cf)]\n",
        "    else:\n",
        "        group_percentages = blanks\n",
        "\n",
        "    box_labels = [f\"{v1}{v2}{v3}\".strip() for v1, v2, v3 in zip(group_labels,group_counts,group_percentages)]\n",
        "    box_labels = np.asarray(box_labels).reshape(cf.shape[0],cf.shape[1])\n",
        "\n",
        "\n",
        "    # CODE TO GENERATE SUMMARY STATISTICS & TEXT FOR SUMMARY STATS\n",
        "    if sum_stats:\n",
        "        #Accuracy is sum of diagonal divided by total observations\n",
        "        accuracy  = np.trace(cf) / float(np.sum(cf))\n",
        "\n",
        "        #if it is a binary confusion matrix, show some more stats\n",
        "        if len(cf)==2:\n",
        "            #Metrics for Binary Confusion Matrices\n",
        "            precision = cf[1,1] / sum(cf[:,1])\n",
        "            recall    = cf[1,1] / sum(cf[1,:])\n",
        "            f1_score  = 2*precision*recall / (precision + recall)\n",
        "            stats_text = \"\\n\\nAccuracy={:0.3f}\\nPrecision={:0.3f}\\nRecall={:0.3f}\\nF1 Score={:0.3f}\".format(\n",
        "                accuracy,precision,recall,f1_score)\n",
        "        else:\n",
        "            stats_text = \"\\n\\nAccuracy={:0.3f}\".format(accuracy)\n",
        "    else:\n",
        "        stats_text = \"\"\n",
        "\n",
        "\n",
        "    # SET FIGURE PARAMETERS ACCORDING TO OTHER ARGUMENTS\n",
        "    if figsize==None:\n",
        "        #Get default figure size if not set\n",
        "        figsize = plt.rcParams.get('figure.figsize')\n",
        "\n",
        "    if xyticks==False:\n",
        "        #Do not show categories if xyticks is False\n",
        "        categories=False\n",
        "\n",
        "\n",
        "    # MAKE THE HEATMAP VISUALIZATION\n",
        "    plt.figure(figsize=figsize)\n",
        "    \n",
        "    \n",
        "    sns.heatmap(cf,annot=box_labels,fmt=\"\",cmap=cmap,cbar=cbar,xticklabels=categories,yticklabels=categories)\n",
        "\n",
        "    if xyplotlabels:\n",
        "        plt.ylabel('True label')\n",
        "        plt.xlabel('Predicted label' + stats_text)\n",
        "    else:\n",
        "        plt.xlabel(stats_text)\n",
        "    \n",
        "    if title:\n",
        "        plt.title(title)"
      ],
      "execution_count": null,
      "outputs": []
    },
    {
      "cell_type": "code",
      "metadata": {
        "colab": {
          "base_uri": "https://localhost:8080/",
          "height": 608
        },
        "id": "bvF8MWkUpydb",
        "outputId": "e2b898f2-f082-4ed6-f657-8dd3c7b58d05"
      },
      "source": [
        "dino_df = pd.read_csv('/content/drive/MyDrive/Dinobb/data.csv')\n",
        "dino_df.head()"
      ],
      "execution_count": null,
      "outputs": [
        {
          "output_type": "execute_result",
          "data": {
            "text/html": [
              "<div>\n",
              "<style scoped>\n",
              "    .dataframe tbody tr th:only-of-type {\n",
              "        vertical-align: middle;\n",
              "    }\n",
              "\n",
              "    .dataframe tbody tr th {\n",
              "        vertical-align: top;\n",
              "    }\n",
              "\n",
              "    .dataframe thead th {\n",
              "        text-align: right;\n",
              "    }\n",
              "</style>\n",
              "<table border=\"1\" class=\"dataframe\">\n",
              "  <thead>\n",
              "    <tr style=\"text-align: right;\">\n",
              "      <th></th>\n",
              "      <th>name</th>\n",
              "      <th>diet</th>\n",
              "      <th>period</th>\n",
              "      <th>lived_in</th>\n",
              "      <th>type</th>\n",
              "      <th>length</th>\n",
              "      <th>taxonomy</th>\n",
              "      <th>named_by</th>\n",
              "      <th>species</th>\n",
              "      <th>link</th>\n",
              "    </tr>\n",
              "  </thead>\n",
              "  <tbody>\n",
              "    <tr>\n",
              "      <th>0</th>\n",
              "      <td>aardonyx</td>\n",
              "      <td>herbivorous</td>\n",
              "      <td>Early Jurassic 199-189 million years ago</td>\n",
              "      <td>South Africa</td>\n",
              "      <td>sauropod</td>\n",
              "      <td>8.0m</td>\n",
              "      <td>Dinosauria Saurischia Sauropodomorpha Prosauro...</td>\n",
              "      <td>Yates Bonnan Neveling Chinsamy and Blackbeard ...</td>\n",
              "      <td>celestae</td>\n",
              "      <td>https://www.nhm.ac.uk/discover/dino-directory/...</td>\n",
              "    </tr>\n",
              "    <tr>\n",
              "      <th>1</th>\n",
              "      <td>abelisaurus</td>\n",
              "      <td>carnivorous</td>\n",
              "      <td>Late Cretaceous 74-70 million years ago</td>\n",
              "      <td>Argentina</td>\n",
              "      <td>large theropod</td>\n",
              "      <td>9.0m</td>\n",
              "      <td>Dinosauria Saurischia Theropoda Neotheropoda C...</td>\n",
              "      <td>Bonaparte and Novas (1985)</td>\n",
              "      <td>comahuensis</td>\n",
              "      <td>https://www.nhm.ac.uk/discover/dino-directory/...</td>\n",
              "    </tr>\n",
              "    <tr>\n",
              "      <th>2</th>\n",
              "      <td>achelousaurus</td>\n",
              "      <td>herbivorous</td>\n",
              "      <td>Late Cretaceous 83-70 million years ago</td>\n",
              "      <td>USA</td>\n",
              "      <td>ceratopsian</td>\n",
              "      <td>6.0m</td>\n",
              "      <td>Dinosauria Ornithischia Genasauria Cerapoda Ma...</td>\n",
              "      <td>Sampson  (1995)</td>\n",
              "      <td>horneri</td>\n",
              "      <td>https://www.nhm.ac.uk/discover/dino-directory/...</td>\n",
              "    </tr>\n",
              "    <tr>\n",
              "      <th>3</th>\n",
              "      <td>achillobator</td>\n",
              "      <td>carnivorous</td>\n",
              "      <td>Late Cretaceous 99-84 million years ago</td>\n",
              "      <td>Mongolia</td>\n",
              "      <td>large theropod</td>\n",
              "      <td>5.0m</td>\n",
              "      <td>Dinosauria Saurischia Theropoda Neotheropoda T...</td>\n",
              "      <td>Perle Norell and Clark (1999)</td>\n",
              "      <td>giganteus</td>\n",
              "      <td>https://www.nhm.ac.uk/discover/dino-directory/...</td>\n",
              "    </tr>\n",
              "    <tr>\n",
              "      <th>4</th>\n",
              "      <td>acrocanthosaurus</td>\n",
              "      <td>carnivorous</td>\n",
              "      <td>Early Cretaceous 115-105 million years ago</td>\n",
              "      <td>USA</td>\n",
              "      <td>large theropod</td>\n",
              "      <td>12.0m</td>\n",
              "      <td>Dinosauria Saurischia Theropoda Neotheropoda T...</td>\n",
              "      <td>Stovall and Langston (1950)</td>\n",
              "      <td>atokensis</td>\n",
              "      <td>https://www.nhm.ac.uk/discover/dino-directory/...</td>\n",
              "    </tr>\n",
              "  </tbody>\n",
              "</table>\n",
              "</div>"
            ],
            "text/plain": [
              "               name  ...                                               link\n",
              "0          aardonyx  ...  https://www.nhm.ac.uk/discover/dino-directory/...\n",
              "1       abelisaurus  ...  https://www.nhm.ac.uk/discover/dino-directory/...\n",
              "2     achelousaurus  ...  https://www.nhm.ac.uk/discover/dino-directory/...\n",
              "3      achillobator  ...  https://www.nhm.ac.uk/discover/dino-directory/...\n",
              "4  acrocanthosaurus  ...  https://www.nhm.ac.uk/discover/dino-directory/...\n",
              "\n",
              "[5 rows x 10 columns]"
            ]
          },
          "metadata": {
            "tags": []
          },
          "execution_count": 415
        }
      ]
    },
    {
      "cell_type": "code",
      "metadata": {
        "colab": {
          "base_uri": "https://localhost:8080/"
        },
        "id": "P5qegwsYriHF",
        "outputId": "166049b9-f6ab-49cc-e418-3f42fbb6149b"
      },
      "source": [
        "dino_df.shape"
      ],
      "execution_count": null,
      "outputs": [
        {
          "output_type": "execute_result",
          "data": {
            "text/plain": [
              "(309, 10)"
            ]
          },
          "metadata": {
            "tags": []
          },
          "execution_count": 416
        }
      ]
    },
    {
      "cell_type": "markdown",
      "metadata": {
        "id": "ewWK4jmHhs6n"
      },
      "source": [
        "##Data Cleaningn"
      ]
    },
    {
      "cell_type": "markdown",
      "metadata": {
        "id": "aMtqqZfltLcS"
      },
      "source": [
        "First we delete the useless features."
      ]
    },
    {
      "cell_type": "code",
      "metadata": {
        "colab": {
          "base_uri": "https://localhost:8080/",
          "height": 597
        },
        "id": "E0hRl2B_qp3L",
        "outputId": "5ce802d1-b7c7-405e-c9c0-c63a102500e0"
      },
      "source": [
        "dino_df.drop(['taxonomy', 'named_by', 'species', 'link'], axis = 1, inplace = True)\n",
        "dino_df"
      ],
      "execution_count": null,
      "outputs": [
        {
          "output_type": "execute_result",
          "data": {
            "text/html": [
              "<div>\n",
              "<style scoped>\n",
              "    .dataframe tbody tr th:only-of-type {\n",
              "        vertical-align: middle;\n",
              "    }\n",
              "\n",
              "    .dataframe tbody tr th {\n",
              "        vertical-align: top;\n",
              "    }\n",
              "\n",
              "    .dataframe thead th {\n",
              "        text-align: right;\n",
              "    }\n",
              "</style>\n",
              "<table border=\"1\" class=\"dataframe\">\n",
              "  <thead>\n",
              "    <tr style=\"text-align: right;\">\n",
              "      <th></th>\n",
              "      <th>name</th>\n",
              "      <th>diet</th>\n",
              "      <th>period</th>\n",
              "      <th>lived_in</th>\n",
              "      <th>type</th>\n",
              "      <th>length</th>\n",
              "    </tr>\n",
              "  </thead>\n",
              "  <tbody>\n",
              "    <tr>\n",
              "      <th>0</th>\n",
              "      <td>aardonyx</td>\n",
              "      <td>herbivorous</td>\n",
              "      <td>Early Jurassic 199-189 million years ago</td>\n",
              "      <td>South Africa</td>\n",
              "      <td>sauropod</td>\n",
              "      <td>8.0m</td>\n",
              "    </tr>\n",
              "    <tr>\n",
              "      <th>1</th>\n",
              "      <td>abelisaurus</td>\n",
              "      <td>carnivorous</td>\n",
              "      <td>Late Cretaceous 74-70 million years ago</td>\n",
              "      <td>Argentina</td>\n",
              "      <td>large theropod</td>\n",
              "      <td>9.0m</td>\n",
              "    </tr>\n",
              "    <tr>\n",
              "      <th>2</th>\n",
              "      <td>achelousaurus</td>\n",
              "      <td>herbivorous</td>\n",
              "      <td>Late Cretaceous 83-70 million years ago</td>\n",
              "      <td>USA</td>\n",
              "      <td>ceratopsian</td>\n",
              "      <td>6.0m</td>\n",
              "    </tr>\n",
              "    <tr>\n",
              "      <th>3</th>\n",
              "      <td>achillobator</td>\n",
              "      <td>carnivorous</td>\n",
              "      <td>Late Cretaceous 99-84 million years ago</td>\n",
              "      <td>Mongolia</td>\n",
              "      <td>large theropod</td>\n",
              "      <td>5.0m</td>\n",
              "    </tr>\n",
              "    <tr>\n",
              "      <th>4</th>\n",
              "      <td>acrocanthosaurus</td>\n",
              "      <td>carnivorous</td>\n",
              "      <td>Early Cretaceous 115-105 million years ago</td>\n",
              "      <td>USA</td>\n",
              "      <td>large theropod</td>\n",
              "      <td>12.0m</td>\n",
              "    </tr>\n",
              "    <tr>\n",
              "      <th>...</th>\n",
              "      <td>...</td>\n",
              "      <td>...</td>\n",
              "      <td>...</td>\n",
              "      <td>...</td>\n",
              "      <td>...</td>\n",
              "      <td>...</td>\n",
              "    </tr>\n",
              "    <tr>\n",
              "      <th>304</th>\n",
              "      <td>yuanmousaurus</td>\n",
              "      <td>herbivorous</td>\n",
              "      <td>Mid Jurassic 180-159 million years ago</td>\n",
              "      <td>China</td>\n",
              "      <td>sauropod</td>\n",
              "      <td>17.0m</td>\n",
              "    </tr>\n",
              "    <tr>\n",
              "      <th>305</th>\n",
              "      <td>yunnanosaurus</td>\n",
              "      <td>omnivorous</td>\n",
              "      <td>Early Jurassic 205-190 million years ago</td>\n",
              "      <td>China</td>\n",
              "      <td>sauropod</td>\n",
              "      <td>7.0m</td>\n",
              "    </tr>\n",
              "    <tr>\n",
              "      <th>306</th>\n",
              "      <td>zalmoxes</td>\n",
              "      <td>herbivorous</td>\n",
              "      <td>Late Cretaceous 69 million years ago</td>\n",
              "      <td>Romania</td>\n",
              "      <td>euornithopod</td>\n",
              "      <td>3.0m</td>\n",
              "    </tr>\n",
              "    <tr>\n",
              "      <th>307</th>\n",
              "      <td>zephyrosaurus</td>\n",
              "      <td>herbivorous</td>\n",
              "      <td>Early Cretaceous 120-110 million years ago</td>\n",
              "      <td>USA</td>\n",
              "      <td>euornithopod</td>\n",
              "      <td>1.8m</td>\n",
              "    </tr>\n",
              "    <tr>\n",
              "      <th>308</th>\n",
              "      <td>zuniceratops</td>\n",
              "      <td>herbivorous</td>\n",
              "      <td>Late Cretaceous 94-89 million years ago</td>\n",
              "      <td>USA</td>\n",
              "      <td>ceratopsian</td>\n",
              "      <td>NaN</td>\n",
              "    </tr>\n",
              "  </tbody>\n",
              "</table>\n",
              "<p>309 rows × 6 columns</p>\n",
              "</div>"
            ],
            "text/plain": [
              "                 name         diet  ...            type length\n",
              "0            aardonyx  herbivorous  ...        sauropod   8.0m\n",
              "1         abelisaurus  carnivorous  ...  large theropod   9.0m\n",
              "2       achelousaurus  herbivorous  ...     ceratopsian   6.0m\n",
              "3        achillobator  carnivorous  ...  large theropod   5.0m\n",
              "4    acrocanthosaurus  carnivorous  ...  large theropod  12.0m\n",
              "..                ...          ...  ...             ...    ...\n",
              "304     yuanmousaurus  herbivorous  ...        sauropod  17.0m\n",
              "305     yunnanosaurus   omnivorous  ...        sauropod   7.0m\n",
              "306          zalmoxes  herbivorous  ...    euornithopod   3.0m\n",
              "307     zephyrosaurus  herbivorous  ...    euornithopod   1.8m\n",
              "308      zuniceratops  herbivorous  ...     ceratopsian    NaN\n",
              "\n",
              "[309 rows x 6 columns]"
            ]
          },
          "metadata": {
            "tags": []
          },
          "execution_count": 417
        }
      ]
    },
    {
      "cell_type": "code",
      "metadata": {
        "colab": {
          "base_uri": "https://localhost:8080/"
        },
        "id": "J7ZjnQSIstgu",
        "outputId": "eefe66eb-a48a-4e46-d8f3-bfc956d7395b"
      },
      "source": [
        "dino_df.columns"
      ],
      "execution_count": null,
      "outputs": [
        {
          "output_type": "execute_result",
          "data": {
            "text/plain": [
              "Index(['name', 'diet', 'period', 'lived_in', 'type', 'length'], dtype='object')"
            ]
          },
          "metadata": {
            "tags": []
          },
          "execution_count": 418
        }
      ]
    },
    {
      "cell_type": "markdown",
      "metadata": {
        "id": "7vffU4BqzI2K"
      },
      "source": [
        "Let's deal with missing information:"
      ]
    },
    {
      "cell_type": "code",
      "metadata": {
        "colab": {
          "base_uri": "https://localhost:8080/"
        },
        "id": "EDEJxKFTzOuv",
        "outputId": "f573c0c5-5b4a-4402-9f59-71c298e1d028"
      },
      "source": [
        "dino_df.isna().sum()"
      ],
      "execution_count": null,
      "outputs": [
        {
          "output_type": "execute_result",
          "data": {
            "text/plain": [
              "name         0\n",
              "diet         0\n",
              "period       0\n",
              "lived_in     1\n",
              "type         0\n",
              "length      18\n",
              "dtype: int64"
            ]
          },
          "metadata": {
            "tags": []
          },
          "execution_count": 419
        }
      ]
    },
    {
      "cell_type": "code",
      "metadata": {
        "id": "z6QVMmPizg3W"
      },
      "source": [
        "dino_df = dino_df.dropna(axis=0, subset=['lived_in'])"
      ],
      "execution_count": null,
      "outputs": []
    },
    {
      "cell_type": "code",
      "metadata": {
        "colab": {
          "base_uri": "https://localhost:8080/"
        },
        "id": "FFnDm1p41uXz",
        "outputId": "d1f35f27-9d6b-47fe-878c-a1b2120cc436"
      },
      "source": [
        "dino_df.isna().sum()"
      ],
      "execution_count": null,
      "outputs": [
        {
          "output_type": "execute_result",
          "data": {
            "text/plain": [
              "name         0\n",
              "diet         0\n",
              "period       0\n",
              "lived_in     0\n",
              "type         0\n",
              "length      18\n",
              "dtype: int64"
            ]
          },
          "metadata": {
            "tags": []
          },
          "execution_count": 421
        }
      ]
    },
    {
      "cell_type": "code",
      "metadata": {
        "colab": {
          "base_uri": "https://localhost:8080/"
        },
        "id": "zByZHlSz13nG",
        "outputId": "a1dc7cca-df8f-41c9-c644-2389c7372fd0"
      },
      "source": [
        "dino_df.length = dino_df.length.fillna(0)\n",
        "dino_df.isna().sum()"
      ],
      "execution_count": null,
      "outputs": [
        {
          "output_type": "stream",
          "text": [
            "/usr/local/lib/python3.7/dist-packages/pandas/core/generic.py:5170: SettingWithCopyWarning: \n",
            "A value is trying to be set on a copy of a slice from a DataFrame.\n",
            "Try using .loc[row_indexer,col_indexer] = value instead\n",
            "\n",
            "See the caveats in the documentation: https://pandas.pydata.org/pandas-docs/stable/user_guide/indexing.html#returning-a-view-versus-a-copy\n",
            "  self[name] = value\n"
          ],
          "name": "stderr"
        },
        {
          "output_type": "execute_result",
          "data": {
            "text/plain": [
              "name        0\n",
              "diet        0\n",
              "period      0\n",
              "lived_in    0\n",
              "type        0\n",
              "length      0\n",
              "dtype: int64"
            ]
          },
          "metadata": {
            "tags": []
          },
          "execution_count": 422
        }
      ]
    },
    {
      "cell_type": "markdown",
      "metadata": {
        "id": "rC9DoajntkLb"
      },
      "source": [
        "##Then we solve the string problem in the lenght column:"
      ]
    },
    {
      "cell_type": "code",
      "metadata": {
        "colab": {
          "base_uri": "https://localhost:8080/"
        },
        "id": "VSg86-Jns4Pw",
        "outputId": "c50ff29d-c13e-428d-b6c2-c988a4a53fd3"
      },
      "source": [
        "dino_df.length = dino_df.length.str.replace('m', '')\n",
        "dino_df.length\n"
      ],
      "execution_count": null,
      "outputs": [
        {
          "output_type": "stream",
          "text": [
            "/usr/local/lib/python3.7/dist-packages/pandas/core/generic.py:5170: SettingWithCopyWarning: \n",
            "A value is trying to be set on a copy of a slice from a DataFrame.\n",
            "Try using .loc[row_indexer,col_indexer] = value instead\n",
            "\n",
            "See the caveats in the documentation: https://pandas.pydata.org/pandas-docs/stable/user_guide/indexing.html#returning-a-view-versus-a-copy\n",
            "  self[name] = value\n"
          ],
          "name": "stderr"
        },
        {
          "output_type": "execute_result",
          "data": {
            "text/plain": [
              "0       8.0\n",
              "1       9.0\n",
              "2       6.0\n",
              "3       5.0\n",
              "4      12.0\n",
              "       ... \n",
              "304    17.0\n",
              "305     7.0\n",
              "306     3.0\n",
              "307     1.8\n",
              "308     NaN\n",
              "Name: length, Length: 308, dtype: object"
            ]
          },
          "metadata": {
            "tags": []
          },
          "execution_count": 423
        }
      ]
    },
    {
      "cell_type": "code",
      "metadata": {
        "colab": {
          "base_uri": "https://localhost:8080/"
        },
        "id": "rdhuf44-vu2-",
        "outputId": "151b03f7-893a-4455-f525-127945ac0031"
      },
      "source": [
        "print(type(dino_df.length[308]))"
      ],
      "execution_count": null,
      "outputs": [
        {
          "output_type": "stream",
          "text": [
            "<class 'float'>\n"
          ],
          "name": "stdout"
        }
      ]
    },
    {
      "cell_type": "markdown",
      "metadata": {
        "id": "lFN4irlnENi0"
      },
      "source": [
        "After all, Nan keep aparing in the DataFrame, let's destroy them."
      ]
    },
    {
      "cell_type": "code",
      "metadata": {
        "colab": {
          "base_uri": "https://localhost:8080/"
        },
        "id": "zahZ-KjJwbG1",
        "outputId": "f51e770a-8040-4e6c-e917-108bd85879ea"
      },
      "source": [
        "dino_df.length = dino_df.length.replace(np.nan, 0)"
      ],
      "execution_count": null,
      "outputs": [
        {
          "output_type": "stream",
          "text": [
            "/usr/local/lib/python3.7/dist-packages/pandas/core/generic.py:5170: SettingWithCopyWarning: \n",
            "A value is trying to be set on a copy of a slice from a DataFrame.\n",
            "Try using .loc[row_indexer,col_indexer] = value instead\n",
            "\n",
            "See the caveats in the documentation: https://pandas.pydata.org/pandas-docs/stable/user_guide/indexing.html#returning-a-view-versus-a-copy\n",
            "  self[name] = value\n"
          ],
          "name": "stderr"
        }
      ]
    },
    {
      "cell_type": "code",
      "metadata": {
        "colab": {
          "base_uri": "https://localhost:8080/"
        },
        "id": "EnTlPOk-vDSr",
        "outputId": "03a3831b-faa3-47e0-c9aa-efadd0823d47"
      },
      "source": [
        "dino_df.length"
      ],
      "execution_count": null,
      "outputs": [
        {
          "output_type": "execute_result",
          "data": {
            "text/plain": [
              "0       8.0\n",
              "1       9.0\n",
              "2       6.0\n",
              "3       5.0\n",
              "4      12.0\n",
              "       ... \n",
              "304    17.0\n",
              "305     7.0\n",
              "306     3.0\n",
              "307     1.8\n",
              "308       0\n",
              "Name: length, Length: 308, dtype: object"
            ]
          },
          "metadata": {
            "tags": []
          },
          "execution_count": 426
        }
      ]
    },
    {
      "cell_type": "code",
      "metadata": {
        "id": "ukJxGmAXJucK"
      },
      "source": [
        ""
      ],
      "execution_count": null,
      "outputs": []
    },
    {
      "cell_type": "markdown",
      "metadata": {
        "id": "jHQs_unBGHcK"
      },
      "source": [
        "Then we cast this column:"
      ]
    },
    {
      "cell_type": "code",
      "metadata": {
        "colab": {
          "base_uri": "https://localhost:8080/"
        },
        "id": "_4-iKF5zuWj1",
        "outputId": "73cc6203-fef1-4fd1-cbbc-3c6caec8ff4d"
      },
      "source": [
        "dino_df.length = pd.to_numeric(dino_df.length)"
      ],
      "execution_count": null,
      "outputs": [
        {
          "output_type": "stream",
          "text": [
            "/usr/local/lib/python3.7/dist-packages/pandas/core/generic.py:5170: SettingWithCopyWarning: \n",
            "A value is trying to be set on a copy of a slice from a DataFrame.\n",
            "Try using .loc[row_indexer,col_indexer] = value instead\n",
            "\n",
            "See the caveats in the documentation: https://pandas.pydata.org/pandas-docs/stable/user_guide/indexing.html#returning-a-view-versus-a-copy\n",
            "  self[name] = value\n"
          ],
          "name": "stderr"
        }
      ]
    },
    {
      "cell_type": "markdown",
      "metadata": {
        "id": "iR8IxGj7GK6U"
      },
      "source": [
        "And replace 0 with average:"
      ]
    },
    {
      "cell_type": "code",
      "metadata": {
        "colab": {
          "base_uri": "https://localhost:8080/"
        },
        "id": "2t3vPkFME89w",
        "outputId": "9138e56a-1276-49b2-8c25-0f12a134b16c"
      },
      "source": [
        "#dino_df=dino_df.replace({'length': {0: dino_df.length.mean()}})\n",
        "dino_df.length = dino_df.length.replace(0, dino_df.length.mean())\n",
        "dino_df.length\n"
      ],
      "execution_count": null,
      "outputs": [
        {
          "output_type": "stream",
          "text": [
            "/usr/local/lib/python3.7/dist-packages/pandas/core/generic.py:5170: SettingWithCopyWarning: \n",
            "A value is trying to be set on a copy of a slice from a DataFrame.\n",
            "Try using .loc[row_indexer,col_indexer] = value instead\n",
            "\n",
            "See the caveats in the documentation: https://pandas.pydata.org/pandas-docs/stable/user_guide/indexing.html#returning-a-view-versus-a-copy\n",
            "  self[name] = value\n"
          ],
          "name": "stderr"
        },
        {
          "output_type": "execute_result",
          "data": {
            "text/plain": [
              "0       8.000000\n",
              "1       9.000000\n",
              "2       6.000000\n",
              "3       5.000000\n",
              "4      12.000000\n",
              "         ...    \n",
              "304    17.000000\n",
              "305     7.000000\n",
              "306     3.000000\n",
              "307     1.800000\n",
              "308     6.793409\n",
              "Name: length, Length: 308, dtype: float64"
            ]
          },
          "metadata": {
            "tags": []
          },
          "execution_count": 428
        }
      ]
    },
    {
      "cell_type": "markdown",
      "metadata": {
        "id": "zxpDu9ZCcUY4"
      },
      "source": [
        "##Let's get the period values."
      ]
    },
    {
      "cell_type": "code",
      "metadata": {
        "id": "HfrPEFg1GsWf"
      },
      "source": [
        "period = list(dino_df.period)"
      ],
      "execution_count": null,
      "outputs": []
    },
    {
      "cell_type": "code",
      "metadata": {
        "id": "bdfOgKcSOd6e"
      },
      "source": [
        "for element in range(len(period)):\n",
        "  period[element] = ''.join(re.findall(r'\\w+\\s\\w+\\s\\d', period[element]))"
      ],
      "execution_count": null,
      "outputs": []
    },
    {
      "cell_type": "code",
      "metadata": {
        "id": "0afIj1xPQM40"
      },
      "source": [
        "for element in range(len(period)):\n",
        "  period[element] = re.sub(r'\\s\\d', '',period[element])"
      ],
      "execution_count": null,
      "outputs": []
    },
    {
      "cell_type": "code",
      "metadata": {
        "colab": {
          "base_uri": "https://localhost:8080/"
        },
        "id": "tBPs45heXhaf",
        "outputId": "cf14fa6c-f82e-4a70-9bb5-7926264c3656"
      },
      "source": [
        "dino_df.period = period"
      ],
      "execution_count": null,
      "outputs": [
        {
          "output_type": "stream",
          "text": [
            "/usr/local/lib/python3.7/dist-packages/pandas/core/generic.py:5170: SettingWithCopyWarning: \n",
            "A value is trying to be set on a copy of a slice from a DataFrame.\n",
            "Try using .loc[row_indexer,col_indexer] = value instead\n",
            "\n",
            "See the caveats in the documentation: https://pandas.pydata.org/pandas-docs/stable/user_guide/indexing.html#returning-a-view-versus-a-copy\n",
            "  self[name] = value\n"
          ],
          "name": "stderr"
        }
      ]
    },
    {
      "cell_type": "code",
      "metadata": {
        "colab": {
          "base_uri": "https://localhost:8080/"
        },
        "id": "u2Yp07w9X0u3",
        "outputId": "ebe61bd8-dcec-4856-9409-2c8f7c6877c4"
      },
      "source": [
        "dino_df.period.value_counts()"
      ],
      "execution_count": null,
      "outputs": [
        {
          "output_type": "execute_result",
          "data": {
            "text/plain": [
              "Late Cretaceous     139\n",
              "Early Cretaceous     63\n",
              "Late Jurassic        43\n",
              "Mid Jurassic         26\n",
              "Early Jurassic       19\n",
              "Late Triassic        16\n",
              "                      2\n",
              "Name: period, dtype: int64"
            ]
          },
          "metadata": {
            "tags": []
          },
          "execution_count": 433
        }
      ]
    },
    {
      "cell_type": "markdown",
      "metadata": {
        "id": "YMSjpp_-d3HU"
      },
      "source": [
        "Here I'll define which ages corresponds to which historic periods: "
      ]
    },
    {
      "cell_type": "code",
      "metadata": {
        "colab": {
          "base_uri": "https://localhost:8080/",
          "height": 70
        },
        "id": "JcUvlR9NcB54",
        "outputId": "4e8865b4-9e46-485d-c1bb-68bbdf0bbbb3"
      },
      "source": [
        "\"\"\"Late Cretaceous   10 - 15 (2012 - 2007)\n",
        "Early Cretaceous  16 - 20 (2006 - 2001)\n",
        "Late Jurassic     21 - 26 (2000 - 1995)\n",
        "Mid Jurassic      27 - 32 (1994 - 1989)\n",
        "Early Jurassic    33 - 38 (1988 - 1983)\n",
        "Late Triassic     39 - 44 (1982 - 1977)\"\"\""
      ],
      "execution_count": null,
      "outputs": [
        {
          "output_type": "execute_result",
          "data": {
            "application/vnd.google.colaboratory.intrinsic+json": {
              "type": "string"
            },
            "text/plain": [
              "'Late Cretaceous   10 - 15 (2012 - 2007)\\nEarly Cretaceous  16 - 20 (2006 - 2001)\\nLate Jurassic     21 - 26 (2000 - 1995)\\nMid Jurassic      27 - 32 (1994 - 1989)\\nEarly Jurassic    33 - 38 (1988 - 1983)\\nLate Triassic     39 - 44 (1982 - 1977)'"
            ]
          },
          "metadata": {
            "tags": []
          },
          "execution_count": 434
        }
      ]
    },
    {
      "cell_type": "code",
      "metadata": {
        "id": "5t3J80ydb9q7"
      },
      "source": [
        ""
      ],
      "execution_count": null,
      "outputs": []
    },
    {
      "cell_type": "markdown",
      "metadata": {
        "id": "_UH8-eJvdqXB"
      },
      "source": [
        "##Diet"
      ]
    },
    {
      "cell_type": "code",
      "metadata": {
        "colab": {
          "base_uri": "https://localhost:8080/"
        },
        "id": "Lnhvj2qBhzpZ",
        "outputId": "5c85b7c8-a7db-4423-db8f-2adad43fa2f8"
      },
      "source": [
        "dino_df.diet.value_counts()"
      ],
      "execution_count": null,
      "outputs": [
        {
          "output_type": "execute_result",
          "data": {
            "text/plain": [
              "herbivorous               185\n",
              "carnivorous                94\n",
              "omnivorous                 26\n",
              "unknown                     2\n",
              "herbivorous/omnivorous      1\n",
              "Name: diet, dtype: int64"
            ]
          },
          "metadata": {
            "tags": []
          },
          "execution_count": 435
        }
      ]
    },
    {
      "cell_type": "code",
      "metadata": {
        "colab": {
          "base_uri": "https://localhost:8080/"
        },
        "id": "dMhGBMGpjBF0",
        "outputId": "08e8566d-0298-47c3-8686-0eaa8e91c8bb"
      },
      "source": [
        "dino_df.diet = dino_df.diet.replace('herbivorous/omnivorous', 'omnivorous')\n",
        "dino_df.diet.value_counts()"
      ],
      "execution_count": null,
      "outputs": [
        {
          "output_type": "stream",
          "text": [
            "/usr/local/lib/python3.7/dist-packages/pandas/core/generic.py:5170: SettingWithCopyWarning: \n",
            "A value is trying to be set on a copy of a slice from a DataFrame.\n",
            "Try using .loc[row_indexer,col_indexer] = value instead\n",
            "\n",
            "See the caveats in the documentation: https://pandas.pydata.org/pandas-docs/stable/user_guide/indexing.html#returning-a-view-versus-a-copy\n",
            "  self[name] = value\n"
          ],
          "name": "stderr"
        },
        {
          "output_type": "execute_result",
          "data": {
            "text/plain": [
              "herbivorous    185\n",
              "carnivorous     94\n",
              "omnivorous      27\n",
              "unknown          2\n",
              "Name: diet, dtype: int64"
            ]
          },
          "metadata": {
            "tags": []
          },
          "execution_count": 436
        }
      ]
    },
    {
      "cell_type": "markdown",
      "metadata": {
        "id": "IIARXKNobmNE"
      },
      "source": [
        "I'll delete the 'unknow diet' rows, for this I need to know hich rows have this diet:"
      ]
    },
    {
      "cell_type": "code",
      "metadata": {
        "colab": {
          "base_uri": "https://localhost:8080/",
          "height": 112
        },
        "id": "i4dapS0gkLok",
        "outputId": "16825b19-ca89-44e9-b20a-fb8c3ebe64bd"
      },
      "source": [
        "index_names = dino_df[ dino_df['diet'] == 'unknown' ]\n",
        "\n",
        "index_names"
      ],
      "execution_count": null,
      "outputs": [
        {
          "output_type": "execute_result",
          "data": {
            "text/html": [
              "<div>\n",
              "<style scoped>\n",
              "    .dataframe tbody tr th:only-of-type {\n",
              "        vertical-align: middle;\n",
              "    }\n",
              "\n",
              "    .dataframe tbody tr th {\n",
              "        vertical-align: top;\n",
              "    }\n",
              "\n",
              "    .dataframe thead th {\n",
              "        text-align: right;\n",
              "    }\n",
              "</style>\n",
              "<table border=\"1\" class=\"dataframe\">\n",
              "  <thead>\n",
              "    <tr style=\"text-align: right;\">\n",
              "      <th></th>\n",
              "      <th>name</th>\n",
              "      <th>diet</th>\n",
              "      <th>period</th>\n",
              "      <th>lived_in</th>\n",
              "      <th>type</th>\n",
              "      <th>length</th>\n",
              "    </tr>\n",
              "  </thead>\n",
              "  <tbody>\n",
              "    <tr>\n",
              "      <th>182</th>\n",
              "      <td>mononykus</td>\n",
              "      <td>unknown</td>\n",
              "      <td>Late Cretaceous</td>\n",
              "      <td>Mongolia</td>\n",
              "      <td>small theropod</td>\n",
              "      <td>1.000000</td>\n",
              "    </tr>\n",
              "    <tr>\n",
              "      <th>281</th>\n",
              "      <td>therizinosaurus</td>\n",
              "      <td>unknown</td>\n",
              "      <td>Late Cretaceous</td>\n",
              "      <td>Mongolia</td>\n",
              "      <td>large theropod</td>\n",
              "      <td>6.793409</td>\n",
              "    </tr>\n",
              "  </tbody>\n",
              "</table>\n",
              "</div>"
            ],
            "text/plain": [
              "                name     diet  ...            type    length\n",
              "182        mononykus  unknown  ...  small theropod  1.000000\n",
              "281  therizinosaurus  unknown  ...  large theropod  6.793409\n",
              "\n",
              "[2 rows x 6 columns]"
            ]
          },
          "metadata": {
            "tags": []
          },
          "execution_count": 437
        }
      ]
    },
    {
      "cell_type": "code",
      "metadata": {
        "colab": {
          "base_uri": "https://localhost:8080/"
        },
        "id": "ga_JNNl9b0IE",
        "outputId": "0abfed77-5f69-4ea3-ce2d-950968013986"
      },
      "source": [
        "dino_df.drop([182,281], axis=0, inplace= True)\n",
        "dino_df.diet.value_counts()"
      ],
      "execution_count": null,
      "outputs": [
        {
          "output_type": "stream",
          "text": [
            "/usr/local/lib/python3.7/dist-packages/pandas/core/frame.py:4174: SettingWithCopyWarning: \n",
            "A value is trying to be set on a copy of a slice from a DataFrame\n",
            "\n",
            "See the caveats in the documentation: https://pandas.pydata.org/pandas-docs/stable/user_guide/indexing.html#returning-a-view-versus-a-copy\n",
            "  errors=errors,\n"
          ],
          "name": "stderr"
        },
        {
          "output_type": "execute_result",
          "data": {
            "text/plain": [
              "herbivorous    185\n",
              "carnivorous     94\n",
              "omnivorous      27\n",
              "Name: diet, dtype: int64"
            ]
          },
          "metadata": {
            "tags": []
          },
          "execution_count": 438
        }
      ]
    },
    {
      "cell_type": "markdown",
      "metadata": {
        "id": "ZeimHp7WlZsC"
      },
      "source": [
        "## Delete uneccesary class:"
      ]
    },
    {
      "cell_type": "code",
      "metadata": {
        "colab": {
          "base_uri": "https://localhost:8080/",
          "height": 313
        },
        "id": "ZzZ4MXOrdUOm",
        "outputId": "feecfe3d-b8a0-4550-ed85-1a827876aa9d"
      },
      "source": [
        "dino_df.drop(['type'], axis = 1, inplace = True)\n",
        "dino_df.head()"
      ],
      "execution_count": null,
      "outputs": [
        {
          "output_type": "stream",
          "text": [
            "/usr/local/lib/python3.7/dist-packages/pandas/core/frame.py:4174: SettingWithCopyWarning: \n",
            "A value is trying to be set on a copy of a slice from a DataFrame\n",
            "\n",
            "See the caveats in the documentation: https://pandas.pydata.org/pandas-docs/stable/user_guide/indexing.html#returning-a-view-versus-a-copy\n",
            "  errors=errors,\n"
          ],
          "name": "stderr"
        },
        {
          "output_type": "execute_result",
          "data": {
            "text/html": [
              "<div>\n",
              "<style scoped>\n",
              "    .dataframe tbody tr th:only-of-type {\n",
              "        vertical-align: middle;\n",
              "    }\n",
              "\n",
              "    .dataframe tbody tr th {\n",
              "        vertical-align: top;\n",
              "    }\n",
              "\n",
              "    .dataframe thead th {\n",
              "        text-align: right;\n",
              "    }\n",
              "</style>\n",
              "<table border=\"1\" class=\"dataframe\">\n",
              "  <thead>\n",
              "    <tr style=\"text-align: right;\">\n",
              "      <th></th>\n",
              "      <th>name</th>\n",
              "      <th>diet</th>\n",
              "      <th>period</th>\n",
              "      <th>lived_in</th>\n",
              "      <th>length</th>\n",
              "    </tr>\n",
              "  </thead>\n",
              "  <tbody>\n",
              "    <tr>\n",
              "      <th>0</th>\n",
              "      <td>aardonyx</td>\n",
              "      <td>herbivorous</td>\n",
              "      <td>Early Jurassic</td>\n",
              "      <td>South Africa</td>\n",
              "      <td>8.0</td>\n",
              "    </tr>\n",
              "    <tr>\n",
              "      <th>1</th>\n",
              "      <td>abelisaurus</td>\n",
              "      <td>carnivorous</td>\n",
              "      <td>Late Cretaceous</td>\n",
              "      <td>Argentina</td>\n",
              "      <td>9.0</td>\n",
              "    </tr>\n",
              "    <tr>\n",
              "      <th>2</th>\n",
              "      <td>achelousaurus</td>\n",
              "      <td>herbivorous</td>\n",
              "      <td>Late Cretaceous</td>\n",
              "      <td>USA</td>\n",
              "      <td>6.0</td>\n",
              "    </tr>\n",
              "    <tr>\n",
              "      <th>3</th>\n",
              "      <td>achillobator</td>\n",
              "      <td>carnivorous</td>\n",
              "      <td>Late Cretaceous</td>\n",
              "      <td>Mongolia</td>\n",
              "      <td>5.0</td>\n",
              "    </tr>\n",
              "    <tr>\n",
              "      <th>4</th>\n",
              "      <td>acrocanthosaurus</td>\n",
              "      <td>carnivorous</td>\n",
              "      <td>Early Cretaceous</td>\n",
              "      <td>USA</td>\n",
              "      <td>12.0</td>\n",
              "    </tr>\n",
              "  </tbody>\n",
              "</table>\n",
              "</div>"
            ],
            "text/plain": [
              "               name         diet            period      lived_in  length\n",
              "0          aardonyx  herbivorous    Early Jurassic  South Africa     8.0\n",
              "1       abelisaurus  carnivorous   Late Cretaceous     Argentina     9.0\n",
              "2     achelousaurus  herbivorous   Late Cretaceous           USA     6.0\n",
              "3      achillobator  carnivorous   Late Cretaceous      Mongolia     5.0\n",
              "4  acrocanthosaurus  carnivorous  Early Cretaceous           USA    12.0"
            ]
          },
          "metadata": {
            "tags": []
          },
          "execution_count": 439
        }
      ]
    },
    {
      "cell_type": "markdown",
      "metadata": {
        "id": "Ny7YA4R_ld96"
      },
      "source": [
        "## Get dummies:"
      ]
    },
    {
      "cell_type": "code",
      "metadata": {
        "colab": {
          "base_uri": "https://localhost:8080/",
          "height": 206
        },
        "id": "iCEX_KYXlgiv",
        "outputId": "4d59063d-95d4-4f6c-b23c-e974154f3057"
      },
      "source": [
        "dino_df.head()"
      ],
      "execution_count": null,
      "outputs": [
        {
          "output_type": "execute_result",
          "data": {
            "text/html": [
              "<div>\n",
              "<style scoped>\n",
              "    .dataframe tbody tr th:only-of-type {\n",
              "        vertical-align: middle;\n",
              "    }\n",
              "\n",
              "    .dataframe tbody tr th {\n",
              "        vertical-align: top;\n",
              "    }\n",
              "\n",
              "    .dataframe thead th {\n",
              "        text-align: right;\n",
              "    }\n",
              "</style>\n",
              "<table border=\"1\" class=\"dataframe\">\n",
              "  <thead>\n",
              "    <tr style=\"text-align: right;\">\n",
              "      <th></th>\n",
              "      <th>name</th>\n",
              "      <th>diet</th>\n",
              "      <th>period</th>\n",
              "      <th>lived_in</th>\n",
              "      <th>length</th>\n",
              "    </tr>\n",
              "  </thead>\n",
              "  <tbody>\n",
              "    <tr>\n",
              "      <th>0</th>\n",
              "      <td>aardonyx</td>\n",
              "      <td>herbivorous</td>\n",
              "      <td>Early Jurassic</td>\n",
              "      <td>South Africa</td>\n",
              "      <td>8.0</td>\n",
              "    </tr>\n",
              "    <tr>\n",
              "      <th>1</th>\n",
              "      <td>abelisaurus</td>\n",
              "      <td>carnivorous</td>\n",
              "      <td>Late Cretaceous</td>\n",
              "      <td>Argentina</td>\n",
              "      <td>9.0</td>\n",
              "    </tr>\n",
              "    <tr>\n",
              "      <th>2</th>\n",
              "      <td>achelousaurus</td>\n",
              "      <td>herbivorous</td>\n",
              "      <td>Late Cretaceous</td>\n",
              "      <td>USA</td>\n",
              "      <td>6.0</td>\n",
              "    </tr>\n",
              "    <tr>\n",
              "      <th>3</th>\n",
              "      <td>achillobator</td>\n",
              "      <td>carnivorous</td>\n",
              "      <td>Late Cretaceous</td>\n",
              "      <td>Mongolia</td>\n",
              "      <td>5.0</td>\n",
              "    </tr>\n",
              "    <tr>\n",
              "      <th>4</th>\n",
              "      <td>acrocanthosaurus</td>\n",
              "      <td>carnivorous</td>\n",
              "      <td>Early Cretaceous</td>\n",
              "      <td>USA</td>\n",
              "      <td>12.0</td>\n",
              "    </tr>\n",
              "  </tbody>\n",
              "</table>\n",
              "</div>"
            ],
            "text/plain": [
              "               name         diet            period      lived_in  length\n",
              "0          aardonyx  herbivorous    Early Jurassic  South Africa     8.0\n",
              "1       abelisaurus  carnivorous   Late Cretaceous     Argentina     9.0\n",
              "2     achelousaurus  herbivorous   Late Cretaceous           USA     6.0\n",
              "3      achillobator  carnivorous   Late Cretaceous      Mongolia     5.0\n",
              "4  acrocanthosaurus  carnivorous  Early Cretaceous           USA    12.0"
            ]
          },
          "metadata": {
            "tags": []
          },
          "execution_count": 440
        }
      ]
    },
    {
      "cell_type": "code",
      "metadata": {
        "id": "_QjAmPd2uFrm",
        "colab": {
          "base_uri": "https://localhost:8080/"
        },
        "outputId": "ddd7029d-b927-48da-c807-3383ef5ad546"
      },
      "source": [
        "dino_df['length'] = MinMaxScaler().fit_transform(dino_df['length'].values.reshape(-1,1))"
      ],
      "execution_count": null,
      "outputs": [
        {
          "output_type": "stream",
          "text": [
            "/usr/local/lib/python3.7/dist-packages/ipykernel_launcher.py:1: SettingWithCopyWarning: \n",
            "A value is trying to be set on a copy of a slice from a DataFrame.\n",
            "Try using .loc[row_indexer,col_indexer] = value instead\n",
            "\n",
            "See the caveats in the documentation: https://pandas.pydata.org/pandas-docs/stable/user_guide/indexing.html#returning-a-view-versus-a-copy\n",
            "  \"\"\"Entry point for launching an IPython kernel.\n"
          ],
          "name": "stderr"
        }
      ]
    },
    {
      "cell_type": "code",
      "metadata": {
        "colab": {
          "base_uri": "https://localhost:8080/",
          "height": 300
        },
        "id": "nH1wRqPi-4_Z",
        "outputId": "201a6e5e-fee7-42d1-8e5a-b62d782ad63a"
      },
      "source": [
        "dino_df.describe()"
      ],
      "execution_count": null,
      "outputs": [
        {
          "output_type": "execute_result",
          "data": {
            "text/html": [
              "<div>\n",
              "<style scoped>\n",
              "    .dataframe tbody tr th:only-of-type {\n",
              "        vertical-align: middle;\n",
              "    }\n",
              "\n",
              "    .dataframe tbody tr th {\n",
              "        vertical-align: top;\n",
              "    }\n",
              "\n",
              "    .dataframe thead th {\n",
              "        text-align: right;\n",
              "    }\n",
              "</style>\n",
              "<table border=\"1\" class=\"dataframe\">\n",
              "  <thead>\n",
              "    <tr style=\"text-align: right;\">\n",
              "      <th></th>\n",
              "      <th>length</th>\n",
              "    </tr>\n",
              "  </thead>\n",
              "  <tbody>\n",
              "    <tr>\n",
              "      <th>count</th>\n",
              "      <td>306.000000</td>\n",
              "    </tr>\n",
              "    <tr>\n",
              "      <th>mean</th>\n",
              "      <td>0.200344</td>\n",
              "    </tr>\n",
              "    <tr>\n",
              "      <th>std</th>\n",
              "      <td>0.176684</td>\n",
              "    </tr>\n",
              "    <tr>\n",
              "      <th>min</th>\n",
              "      <td>0.000000</td>\n",
              "    </tr>\n",
              "    <tr>\n",
              "      <th>25%</th>\n",
              "      <td>0.079137</td>\n",
              "    </tr>\n",
              "    <tr>\n",
              "      <th>50%</th>\n",
              "      <td>0.165468</td>\n",
              "    </tr>\n",
              "    <tr>\n",
              "      <th>75%</th>\n",
              "      <td>0.251799</td>\n",
              "    </tr>\n",
              "    <tr>\n",
              "      <th>max</th>\n",
              "      <td>1.000000</td>\n",
              "    </tr>\n",
              "  </tbody>\n",
              "</table>\n",
              "</div>"
            ],
            "text/plain": [
              "           length\n",
              "count  306.000000\n",
              "mean     0.200344\n",
              "std      0.176684\n",
              "min      0.000000\n",
              "25%      0.079137\n",
              "50%      0.165468\n",
              "75%      0.251799\n",
              "max      1.000000"
            ]
          },
          "metadata": {
            "tags": []
          },
          "execution_count": 442
        }
      ]
    },
    {
      "cell_type": "markdown",
      "metadata": {
        "id": "fL77asJXiSaK"
      },
      "source": [
        "## ML"
      ]
    },
    {
      "cell_type": "code",
      "metadata": {
        "id": "hv8GghpcVH68"
      },
      "source": [
        "x = dino_df.drop(['name'], axis = 1)\n",
        "y = dino_df.name\n",
        "\n",
        "x_train, x_test, y_train, y_test = train_test_split(x, y, test_size = 0.3, random_state = 42)"
      ],
      "execution_count": null,
      "outputs": []
    },
    {
      "cell_type": "code",
      "metadata": {
        "colab": {
          "base_uri": "https://localhost:8080/"
        },
        "id": "nV1Fh7JuRmNX",
        "outputId": "deddb93a-cafd-48fc-966c-116cf0bdaed2"
      },
      "source": [
        "list(set(x_train.lived_in.to_list()))"
      ],
      "execution_count": null,
      "outputs": [
        {
          "output_type": "execute_result",
          "data": {
            "text/plain": [
              "['India',\n",
              " 'Uruguay',\n",
              " 'Kazakhstan',\n",
              " 'Spain',\n",
              " 'Australia',\n",
              " 'Madagascar',\n",
              " 'United Kingdom',\n",
              " 'Zimbabwe',\n",
              " 'USA',\n",
              " 'France',\n",
              " 'Mongolia',\n",
              " 'Switzerland',\n",
              " 'South Africa',\n",
              " 'Malawi',\n",
              " 'Wales',\n",
              " 'Tunisia',\n",
              " 'Niger',\n",
              " 'Germany',\n",
              " 'Romania',\n",
              " 'North Africa',\n",
              " 'China',\n",
              " 'Japan',\n",
              " 'Brazil',\n",
              " 'Uzbekistan',\n",
              " 'Egypt',\n",
              " 'Tanzania',\n",
              " 'Russia',\n",
              " 'Canada',\n",
              " 'Morocco',\n",
              " 'Argentina']"
            ]
          },
          "metadata": {
            "tags": []
          },
          "execution_count": 444
        }
      ]
    },
    {
      "cell_type": "code",
      "metadata": {
        "id": "4ZkmdqvsFrQc"
      },
      "source": [
        "# Create the encoder.\n",
        "encoder = OneHotEncoder(handle_unknown=\"ignore\")\n",
        "encoder.fit(x_train)    # Assume for simplicity all features are categorical.\n",
        "\n",
        "# Apply the encoder.\n",
        "x_train = encoder.transform(x_train)\n",
        "x_test = encoder.transform(x_test)"
      ],
      "execution_count": null,
      "outputs": []
    },
    {
      "cell_type": "code",
      "metadata": {
        "colab": {
          "base_uri": "https://localhost:8080/"
        },
        "id": "AJEAZtmmjiLf",
        "outputId": "c6cf793e-9626-49eb-cfc7-e793eb5d39b3"
      },
      "source": [
        "print(x_train.shape)\n",
        "print(y_train.shape)\n",
        "print(x_test.shape)\n",
        "print(y_test.shape)"
      ],
      "execution_count": null,
      "outputs": [
        {
          "output_type": "stream",
          "text": [
            "(214, 97)\n",
            "(214,)\n",
            "(92, 97)\n",
            "(92,)\n"
          ],
          "name": "stdout"
        }
      ]
    },
    {
      "cell_type": "markdown",
      "metadata": {
        "id": "hTvo3b70i6Bx"
      },
      "source": [
        "Parameter grid & random search"
      ]
    },
    {
      "cell_type": "code",
      "metadata": {
        "colab": {
          "base_uri": "https://localhost:8080/"
        },
        "id": "yltocUnGhx5r",
        "outputId": "b5b430d3-d0d5-483d-cd59-f53eceea97c1"
      },
      "source": [
        "rf = RandomForestClassifier()\n",
        "rf.fit(x_train, y_train)"
      ],
      "execution_count": null,
      "outputs": [
        {
          "output_type": "execute_result",
          "data": {
            "text/plain": [
              "RandomForestClassifier(bootstrap=True, ccp_alpha=0.0, class_weight=None,\n",
              "                       criterion='gini', max_depth=None, max_features='auto',\n",
              "                       max_leaf_nodes=None, max_samples=None,\n",
              "                       min_impurity_decrease=0.0, min_impurity_split=None,\n",
              "                       min_samples_leaf=1, min_samples_split=2,\n",
              "                       min_weight_fraction_leaf=0.0, n_estimators=100,\n",
              "                       n_jobs=None, oob_score=False, random_state=None,\n",
              "                       verbose=0, warm_start=False)"
            ]
          },
          "metadata": {
            "tags": []
          },
          "execution_count": 447
        }
      ]
    },
    {
      "cell_type": "code",
      "metadata": {
        "id": "3QaGseMfirfg"
      },
      "source": [
        "y_pred = rf.predict(x_test)\n"
      ],
      "execution_count": null,
      "outputs": []
    },
    {
      "cell_type": "code",
      "metadata": {
        "colab": {
          "base_uri": "https://localhost:8080/"
        },
        "id": "_L_P2laOGF3j",
        "outputId": "9f2a2f2f-681a-4c72-b7ac-52e57dcc5959"
      },
      "source": [
        "y_pred"
      ],
      "execution_count": null,
      "outputs": [
        {
          "output_type": "execute_result",
          "data": {
            "text/plain": [
              "array(['ouranosaurus', 'lapparentosaurus', 'chungkingosaurus',\n",
              "       'heyuannia', 'antarctosaurus', 'euoplocephalus', 'heyuannia',\n",
              "       'herrerasaurus', 'chaoyangsaurus', 'alectrosaurus', 'paralititan',\n",
              "       'garudimimus', 'gobisaurus', 'sonidosaurus', 'dromaeosaurus',\n",
              "       'avimimus', 'camarasaurus', 'shunosaurus', 'harpymimus',\n",
              "       'equijubus', 'edmontonia', 'alioramus', 'podokesaurus',\n",
              "       'antarctosaurus', 'velociraptor', 'eoraptor', 'alectrosaurus',\n",
              "       'avimimus', 'shantungosaurus', 'dryosaurus', 'dicraeosaurus',\n",
              "       'othnielia', 'amygdalodon', 'neovenator', 'shantungosaurus',\n",
              "       'hypacrosaurus', 'lophostropheus', 'yingshanosaurus',\n",
              "       'alamosaurus', 'arrhinoceratops', 'maxakalisaurus',\n",
              "       'hesperosaurus', 'garudimimus', 'dicraeosaurus', 'chaoyangsaurus',\n",
              "       'ornithomimus', 'udanoceratops', 'albertosaurus', 'massospondylus',\n",
              "       'nemegtosaurus', 'eustreptospondylus', 'archaeornithomimus',\n",
              "       'coloradisaurus', 'spinosaurus', 'garudimimus', 'gasparinisaura',\n",
              "       'stegoceras', 'archaeopteryx', 'leptoceratops', 'nemegtosaurus',\n",
              "       'nemegtosaurus', 'sauropelta', 'hypsilophodon', 'alectrosaurus',\n",
              "       'gryposaurus', 'atlascopcosaurus', 'rhoetosaurus', 'protohadros',\n",
              "       'lurdusaurus', 'podokesaurus', 'gasparinisaura', 'alectrosaurus',\n",
              "       'carnotaurus', 'gryposaurus', 'leptoceratops', 'amargasaurus',\n",
              "       'shunosaurus', 'lophostropheus', 'kritosaurus', 'nemegtosaurus',\n",
              "       'alioramus', 'hylaeosaurus', 'utahraptor', 'amargasaurus',\n",
              "       'sauropelta', 'unenlagia', 'camptosaurus', 'arrhinoceratops',\n",
              "       'ouranosaurus', 'shantungosaurus', 'dryosaurus', 'hypacrosaurus'],\n",
              "      dtype=object)"
            ]
          },
          "metadata": {
            "tags": []
          },
          "execution_count": 449
        }
      ]
    },
    {
      "cell_type": "code",
      "metadata": {
        "colab": {
          "base_uri": "https://localhost:8080/"
        },
        "id": "z9TJJiRkjSz2",
        "outputId": "dffc6246-eab6-4de6-d198-1c64b8fddb04"
      },
      "source": [
        "x_train"
      ],
      "execution_count": null,
      "outputs": [
        {
          "output_type": "execute_result",
          "data": {
            "text/plain": [
              "<214x97 sparse matrix of type '<class 'numpy.float64'>'\n",
              "\twith 856 stored elements in Compressed Sparse Row format>"
            ]
          },
          "metadata": {
            "tags": []
          },
          "execution_count": 450
        }
      ]
    },
    {
      "cell_type": "code",
      "metadata": {
        "id": "Y6elTGQli-h4",
        "colab": {
          "base_uri": "https://localhost:8080/"
        },
        "outputId": "f2fc4d5f-b153-4b83-c335-6ee0a1f773c0"
      },
      "source": [
        "classes = rf.classes_\n",
        "classes"
      ],
      "execution_count": null,
      "outputs": [
        {
          "output_type": "execute_result",
          "data": {
            "text/plain": [
              "array(['aardonyx', 'abelisaurus', 'achelousaurus', 'acrocanthosaurus',\n",
              "       'alamosaurus', 'albertosaurus', 'alectrosaurus', 'alioramus',\n",
              "       'allosaurus', 'alvarezsaurus', 'amargasaurus', 'ammosaurus',\n",
              "       'amygdalodon', 'anchisaurus', 'ankylosaurus', 'antarctosaurus',\n",
              "       'aralosaurus', 'archaeoceratops', 'archaeopteryx',\n",
              "       'archaeornithomimus', 'arrhinoceratops', 'atlascopcosaurus',\n",
              "       'austrosaurus', 'avaceratops', 'avimimus', 'bactrosaurus',\n",
              "       'bagaceratops', 'bambiraptor', 'barapasaurus', 'barosaurus',\n",
              "       'becklespinax', 'beipiaosaurus', 'brachiosaurus',\n",
              "       'brachylophosaurus', 'brachytrachelopan', 'buitreraptor',\n",
              "       'camarasaurus', 'camptosaurus', 'carcharodontosaurus',\n",
              "       'carnotaurus', 'caudipteryx', 'ceratosaurus', 'chaoyangsaurus',\n",
              "       'chasmosaurus', 'chinshakiangosaurus', 'chirostenotes',\n",
              "       'chungkingosaurus', 'citipati', 'coelophysis', 'coelurus',\n",
              "       'coloradisaurus', 'compsognathus', 'confuciusornis',\n",
              "       'deinocheirus', 'deinonychus', 'dicraeosaurus', 'diplodocus',\n",
              "       'dromaeosaurus', 'dromiceiomimus', 'dryosaurus', 'dryptosaurus',\n",
              "       'edmontonia', 'elaphrosaurus', 'emausaurus', 'eolambia',\n",
              "       'eoraptor', 'eotyrannus', 'equijubus', 'erketu', 'euhelopus',\n",
              "       'euoplocephalus', 'eustreptospondylus', 'fukuiraptor',\n",
              "       'fukuisaurus', 'gallimimus', 'garudimimus', 'gasparinisaura',\n",
              "       'gilmoreosaurus', 'gobisaurus', 'graciliceratops', 'gryposaurus',\n",
              "       'guaibasaurus', 'guanlong', 'harpymimus', 'herrerasaurus',\n",
              "       'hesperosaurus', 'heterodontosaurus', 'heyuannia', 'homalocephale',\n",
              "       'hylaeosaurus', 'hypacrosaurus', 'hypsilophodon', 'iguanodon',\n",
              "       'indosuchus', 'irritator', 'isisaurus', 'jaxartosaurus',\n",
              "       'jingshanosaurus', 'juravenator', 'kotasaurus', 'kritosaurus',\n",
              "       'lambeosaurus', 'lapparentosaurus', 'leaellynasaura',\n",
              "       'leptoceratops', 'liaoceratops', 'ligabuesaurus', 'lophorhothon',\n",
              "       'lophostropheus', 'lufengosaurus', 'lurdusaurus', 'lycorhinus',\n",
              "       'magyarosaurus', 'maiasaura', 'malawisaurus', 'marshosaurus',\n",
              "       'masiakasaurus', 'massospondylus', 'maxakalisaurus',\n",
              "       'megalosaurus', 'melanorosaurus', 'metriacanthosaurus',\n",
              "       'microceratus', 'microraptor', 'mussaurus', 'nanshiungosaurus',\n",
              "       'nedoceratops', 'nemegtosaurus', 'neovenator', 'neuquenosaurus',\n",
              "       'nigersaurus', 'nipponosaurus', 'noasaurus', 'nodosaurus',\n",
              "       'nqwebasaurus', 'ornitholestes', 'ornithomimus', 'orodromeus',\n",
              "       'oryctodromeus', 'othnielia', 'ouranosaurus', 'pachyrhinosaurus',\n",
              "       'panoplosaurus', 'pantydraco', 'paralititan', 'parasaurolophus',\n",
              "       'parksosaurus', 'pelicanimimus', 'pentaceratops',\n",
              "       'piatnitzkysaurus', 'pinacosaurus', 'plateosaurus', 'podokesaurus',\n",
              "       'poekilopleuron', 'probactrosaurus', 'prosaurolophus',\n",
              "       'protarchaeopteryx', 'protoceratops', 'protohadros',\n",
              "       'psittacosaurus', 'rebbachisaurus', 'rhoetosaurus', 'rinchenia',\n",
              "       'riojasaurus', 'rugops', 'saltopus', 'saurolophus', 'sauropelta',\n",
              "       'saurophaganax', 'scelidosaurus', 'scutellosaurus', 'segnosaurus',\n",
              "       'shamosaurus', 'shantungosaurus', 'shunosaurus',\n",
              "       'sinocalliopteryx', 'sinornithosaurus', 'sinosauropteryx',\n",
              "       'sinovenator', 'sonidosaurus', 'spinosaurus', 'staurikosaurus',\n",
              "       'stegoceras', 'stegosaurus', 'stenopelix', 'struthiomimus',\n",
              "       'struthiosaurus', 'styracosaurus', 'suchomimus', 'tanius',\n",
              "       'tarbosaurus', 'telmatosaurus', 'tenontosaurus',\n",
              "       'thecodontosaurus', 'thescelosaurus', 'torosaurus', 'torvosaurus',\n",
              "       'troodon', 'tuojiangosaurus', 'tyrannosaurus', 'udanoceratops',\n",
              "       'unenlagia', 'utahraptor', 'valdosaurus', 'velociraptor',\n",
              "       'yandusaurus', 'yangchuanosaurus', 'yimenosaurus',\n",
              "       'yingshanosaurus', 'yinlong', 'yuanmousaurus', 'yunnanosaurus',\n",
              "       'zephyrosaurus', 'zuniceratops'], dtype=object)"
            ]
          },
          "metadata": {
            "tags": []
          },
          "execution_count": 451
        }
      ]
    },
    {
      "cell_type": "code",
      "metadata": {
        "id": "NPV3rhBhpWA_",
        "colab": {
          "base_uri": "https://localhost:8080/"
        },
        "outputId": "5b2fdd99-d993-4f56-8854-771ac7f4cfa6"
      },
      "source": [
        "dino_probas = rf.predict_proba(x_train)\n",
        "dino_probas.shape\n"
      ],
      "execution_count": null,
      "outputs": [
        {
          "output_type": "execute_result",
          "data": {
            "text/plain": [
              "(214, 214)"
            ]
          },
          "metadata": {
            "tags": []
          },
          "execution_count": 452
        }
      ]
    },
    {
      "cell_type": "code",
      "metadata": {
        "colab": {
          "base_uri": "https://localhost:8080/"
        },
        "id": "E0mtJZasABQE",
        "outputId": "441064f2-b8f8-427d-86af-76a4337bb4d0"
      },
      "source": [
        "dino_probas"
      ],
      "execution_count": null,
      "outputs": [
        {
          "output_type": "execute_result",
          "data": {
            "text/plain": [
              "array([[0.  , 0.  , 0.  , ..., 0.  , 0.  , 0.  ],\n",
              "       [0.  , 0.  , 0.  , ..., 0.  , 0.  , 0.  ],\n",
              "       [0.  , 0.05, 0.  , ..., 0.  , 0.  , 0.  ],\n",
              "       ...,\n",
              "       [0.  , 0.  , 0.  , ..., 0.  , 0.  , 0.  ],\n",
              "       [0.  , 0.  , 0.  , ..., 0.  , 0.  , 0.  ],\n",
              "       [0.  , 0.  , 0.  , ..., 0.  , 0.  , 0.  ]])"
            ]
          },
          "metadata": {
            "tags": []
          },
          "execution_count": 453
        }
      ]
    },
    {
      "cell_type": "code",
      "metadata": {
        "id": "yrL1TxfaBBS3"
      },
      "source": [
        "dino_mapping = list(zip(classes, list(dino_probas[0])))"
      ],
      "execution_count": null,
      "outputs": []
    },
    {
      "cell_type": "code",
      "metadata": {
        "id": "o_IkPIhFBSYX"
      },
      "source": [
        "dino_mapping.sort(reverse=True, key=lambda tup: tup[1]) "
      ],
      "execution_count": null,
      "outputs": []
    },
    {
      "cell_type": "code",
      "metadata": {
        "colab": {
          "base_uri": "https://localhost:8080/"
        },
        "id": "I5Ty63qaBjml",
        "outputId": "31b71486-29be-4583-817d-0a7cfc7858fe"
      },
      "source": [
        "dino_mapping[:3]"
      ],
      "execution_count": null,
      "outputs": [
        {
          "output_type": "execute_result",
          "data": {
            "text/plain": [
              "[('compsognathus', 0.62), ('archaeopteryx', 0.16), ('juravenator', 0.1)]"
            ]
          },
          "metadata": {
            "tags": []
          },
          "execution_count": 456
        }
      ]
    },
    {
      "cell_type": "code",
      "metadata": {
        "colab": {
          "base_uri": "https://localhost:8080/",
          "height": 81
        },
        "id": "OlDXgCshgOoV",
        "outputId": "31a78416-ebf2-4761-84d5-ea45b7ed2c25"
      },
      "source": [
        "diet = \"herbivorous\"\n",
        "period = \"Early Jurassic\"\n",
        "lived_in = \"USA\"\n",
        "length = 1.8\n",
        "variables = [diet, period, lived_in, length]\n",
        "input_df = pd.DataFrame([variables], columns = ['diet', 'period', 'lived_in', 'length'])\n",
        "input_df['length'] = (length - 0.5464) / (2.72 - 0.5464)\n",
        "input_df.head()\n"
      ],
      "execution_count": null,
      "outputs": [
        {
          "output_type": "execute_result",
          "data": {
            "text/html": [
              "<div>\n",
              "<style scoped>\n",
              "    .dataframe tbody tr th:only-of-type {\n",
              "        vertical-align: middle;\n",
              "    }\n",
              "\n",
              "    .dataframe tbody tr th {\n",
              "        vertical-align: top;\n",
              "    }\n",
              "\n",
              "    .dataframe thead th {\n",
              "        text-align: right;\n",
              "    }\n",
              "</style>\n",
              "<table border=\"1\" class=\"dataframe\">\n",
              "  <thead>\n",
              "    <tr style=\"text-align: right;\">\n",
              "      <th></th>\n",
              "      <th>diet</th>\n",
              "      <th>period</th>\n",
              "      <th>lived_in</th>\n",
              "      <th>length</th>\n",
              "    </tr>\n",
              "  </thead>\n",
              "  <tbody>\n",
              "    <tr>\n",
              "      <th>0</th>\n",
              "      <td>herbivorous</td>\n",
              "      <td>Early Jurassic</td>\n",
              "      <td>USA</td>\n",
              "      <td>0.576739</td>\n",
              "    </tr>\n",
              "  </tbody>\n",
              "</table>\n",
              "</div>"
            ],
            "text/plain": [
              "          diet          period lived_in    length\n",
              "0  herbivorous  Early Jurassic      USA  0.576739"
            ]
          },
          "metadata": {
            "tags": []
          },
          "execution_count": 457
        }
      ]
    },
    {
      "cell_type": "code",
      "metadata": {
        "id": "ixtWQZjl1wcG"
      },
      "source": [
        "# creating instance of one-hot-encoder handle_unknown='ignore'\n",
        "x_input = encoder.transform(input_df)\n"
      ],
      "execution_count": null,
      "outputs": []
    },
    {
      "cell_type": "code",
      "metadata": {
        "colab": {
          "base_uri": "https://localhost:8080/"
        },
        "id": "h6TNYNBjm4I_",
        "outputId": "aee1cdaf-716c-4db6-85bf-ec621b42921f"
      },
      "source": [
        "x_input"
      ],
      "execution_count": null,
      "outputs": [
        {
          "output_type": "execute_result",
          "data": {
            "text/plain": [
              "<1x97 sparse matrix of type '<class 'numpy.float64'>'\n",
              "\twith 3 stored elements in Compressed Sparse Row format>"
            ]
          },
          "metadata": {
            "tags": []
          },
          "execution_count": 459
        }
      ]
    },
    {
      "cell_type": "code",
      "metadata": {
        "id": "mYvi24hqqtwA"
      },
      "source": [
        "my_prediction = rf.predict_proba(x_input)"
      ],
      "execution_count": null,
      "outputs": []
    },
    {
      "cell_type": "code",
      "metadata": {
        "colab": {
          "base_uri": "https://localhost:8080/"
        },
        "id": "CdxioC7rHVgI",
        "outputId": "dcc712ea-f870-4226-8f4b-be221766b642"
      },
      "source": [
        "dino_mapping = list(zip(classes, list(my_prediction[0])))\n",
        "dino_mapping.sort(reverse=True, key=lambda tup: tup[1]) \n",
        "dino_mapping[:3]"
      ],
      "execution_count": null,
      "outputs": [
        {
          "output_type": "execute_result",
          "data": {
            "text/plain": [
              "[('scutellosaurus', 0.21), ('ammosaurus', 0.19), ('anchisaurus', 0.16)]"
            ]
          },
          "metadata": {
            "tags": []
          },
          "execution_count": 461
        }
      ]
    },
    {
      "cell_type": "code",
      "metadata": {
        "id": "A1YIFsB-JtLt"
      },
      "source": [
        "import pickle\n",
        "pickle.dump(rf, open( 'dino_model.mo', \"wb\" ) )\n",
        "pickle.dump(encoder, open( 'encoder.mo', \"wb\" ) )"
      ],
      "execution_count": null,
      "outputs": []
    },
    {
      "cell_type": "code",
      "metadata": {
        "colab": {
          "base_uri": "https://localhost:8080/"
        },
        "id": "oDhOCc2kK7AP",
        "outputId": "5ed3dfbc-b3b5-49fb-935b-6f27c51c3dc1"
      },
      "source": [
        "import sklearn\n",
        "print('The scikit-learn version is {}.'.format(sklearn.__version__))"
      ],
      "execution_count": null,
      "outputs": [
        {
          "output_type": "stream",
          "text": [
            "The scikit-learn version is 0.22.2.post1.\n"
          ],
          "name": "stdout"
        }
      ]
    },
    {
      "cell_type": "code",
      "metadata": {
        "id": "fLSc0FxISl9Q"
      },
      "source": [
        ""
      ],
      "execution_count": null,
      "outputs": []
    }
  ]
}